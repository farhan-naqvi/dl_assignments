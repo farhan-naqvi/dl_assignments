{
 "cells": [
  {
   "cell_type": "markdown",
   "metadata": {
    "id": "tPIKfVcI7cXn"
   },
   "source": [
    "Name: **Syed Farhan Naqvi**<br>\n",
    "Div: **BE11-Q11**<br>\n",
    "Roll no: **43344**<br>\n",
    "Title: **Assignment 2: Implementing Feedforward neural networks with Keras and TensorFlow**<br>"
   ]
  },
  {
   "cell_type": "code",
   "execution_count": 1,
   "metadata": {
    "id": "hcpVc-38-OFf"
   },
   "outputs": [],
   "source": [
    "#installations\n",
    "from sklearn.preprocessing import LabelBinarizer\n",
    "from sklearn.metrics import classification_report\n",
    "from tensorflow.keras.models import Sequential\n",
    "from tensorflow.keras.layers import Dense\n",
    "from tensorflow.keras.optimizers import SGD\n",
    "from tensorflow.keras.datasets import mnist\n",
    "from tensorflow.keras import backend as K\n",
    "import matplotlib.pyplot as plt\n",
    "import numpy as np"
   ]
  },
  {
   "cell_type": "code",
   "execution_count": 2,
   "metadata": {
    "id": "LUZLOYG8-Yz2"
   },
   "outputs": [],
   "source": [
    "#grabbing the mnist dataset\n",
    "((X_train, Y_train), (X_test, Y_test)) = mnist.load_data()\n"
   ]
  },
  {
   "cell_type": "code",
   "execution_count": 3,
   "metadata": {
    "colab": {
     "base_uri": "https://localhost:8080/",
     "height": 0
    },
    "id": "FxJSmSOV8IlR",
    "outputId": "b5cccdc4-f017-4aa8-c47a-2c080589eb69"
   },
   "outputs": [
    {
     "data": {
      "text/plain": [
       "(60000, 28, 28)"
      ]
     },
     "execution_count": 3,
     "metadata": {},
     "output_type": "execute_result"
    }
   ],
   "source": [
    "X_train.shape"
   ]
  },
  {
   "cell_type": "code",
   "execution_count": 4,
   "metadata": {
    "colab": {
     "base_uri": "https://localhost:8080/",
     "height": 0
    },
    "id": "3_BTAY7b8Sui",
    "outputId": "4829ec27-b119-4275-eb7b-132d97502f3f"
   },
   "outputs": [
    {
     "data": {
      "text/plain": [
       "(10000, 28, 28)"
      ]
     },
     "execution_count": 4,
     "metadata": {},
     "output_type": "execute_result"
    }
   ],
   "source": [
    "X_test.shape"
   ]
  },
  {
   "cell_type": "code",
   "execution_count": 5,
   "metadata": {
    "id": "UYN1APt78Ihw"
   },
   "outputs": [],
   "source": [
    "X_train = X_train.reshape((X_train.shape[0], 28 * 28 * 1))\n",
    "X_test = X_test.reshape((X_test.shape[0], 28 * 28 * 1))\n"
   ]
  },
  {
   "cell_type": "code",
   "execution_count": 6,
   "metadata": {
    "colab": {
     "base_uri": "https://localhost:8080/",
     "height": 0
    },
    "id": "Z2--LAUI8cgP",
    "outputId": "cd32e2a7-0cea-47a2-c0e0-904d58bcd760"
   },
   "outputs": [
    {
     "data": {
      "text/plain": [
       "(60000, 784)"
      ]
     },
     "execution_count": 6,
     "metadata": {},
     "output_type": "execute_result"
    }
   ],
   "source": [
    "X_train.shape"
   ]
  },
  {
   "cell_type": "code",
   "execution_count": 7,
   "metadata": {
    "id": "xLXPOvtd8cc2"
   },
   "outputs": [],
   "source": [
    "X_train = X_train.astype(\"float32\") / 255.0\n",
    "X_test = X_test.astype(\"float32\") / 255.0"
   ]
  },
  {
   "cell_type": "code",
   "execution_count": 8,
   "metadata": {
    "id": "rGDSwm8e-i44"
   },
   "outputs": [],
   "source": [
    "lb = LabelBinarizer()\n",
    "Y_train = lb.fit_transform(Y_train)\n",
    "Y_test = lb.transform(Y_test)"
   ]
  },
  {
   "cell_type": "code",
   "execution_count": 9,
   "metadata": {
    "id": "lxBbB-yA-s_g"
   },
   "outputs": [],
   "source": [
    "#building the model\n",
    "model = Sequential()\n",
    "model.add(Dense(128, input_shape=(784,), activation=\"sigmoid\"))\n",
    "model.add(Dense(64, activation=\"sigmoid\"))\n",
    "model.add(Dense(10, activation=\"softmax\"))"
   ]
  },
  {
   "cell_type": "code",
   "execution_count": 10,
   "metadata": {
    "colab": {
     "base_uri": "https://localhost:8080/",
     "height": 0
    },
    "id": "xKc03Mvz-wrz",
    "outputId": "4d04946f-bd3e-4fa1-a7a2-77dc12425755"
   },
   "outputs": [
    {
     "name": "stdout",
     "output_type": "stream",
     "text": [
      "Epoch 1/10\n",
      "469/469 [==============================] - 4s 7ms/step - loss: 2.2932 - accuracy: 0.1293 - val_loss: 2.2594 - val_accuracy: 0.1506\n",
      "Epoch 2/10\n",
      "469/469 [==============================] - 3s 6ms/step - loss: 2.2366 - accuracy: 0.3117 - val_loss: 2.2087 - val_accuracy: 0.3411\n",
      "Epoch 3/10\n",
      "469/469 [==============================] - 4s 8ms/step - loss: 2.1790 - accuracy: 0.4677 - val_loss: 2.1401 - val_accuracy: 0.5892\n",
      "Epoch 4/10\n",
      "469/469 [==============================] - 4s 8ms/step - loss: 2.0975 - accuracy: 0.5653 - val_loss: 2.0401 - val_accuracy: 0.6430\n",
      "Epoch 5/10\n",
      "469/469 [==============================] - 4s 9ms/step - loss: 1.9794 - accuracy: 0.6159 - val_loss: 1.8980 - val_accuracy: 0.6201\n",
      "Epoch 6/10\n",
      "469/469 [==============================] - 4s 8ms/step - loss: 1.8197 - accuracy: 0.6385 - val_loss: 1.7177 - val_accuracy: 0.6663\n",
      "Epoch 7/10\n",
      "469/469 [==============================] - 4s 8ms/step - loss: 1.6334 - accuracy: 0.6671 - val_loss: 1.5247 - val_accuracy: 0.6899\n",
      "Epoch 8/10\n",
      "469/469 [==============================] - 3s 7ms/step - loss: 1.4479 - accuracy: 0.6961 - val_loss: 1.3456 - val_accuracy: 0.7097\n",
      "Epoch 9/10\n",
      "469/469 [==============================] - 5s 10ms/step - loss: 1.2825 - accuracy: 0.7211 - val_loss: 1.1920 - val_accuracy: 0.7433\n",
      "Epoch 10/10\n",
      "469/469 [==============================] - 3s 7ms/step - loss: 1.1437 - accuracy: 0.7470 - val_loss: 1.0665 - val_accuracy: 0.7599\n"
     ]
    }
   ],
   "source": [
    "sgd = SGD(0.01)\n",
    "epochs=10\n",
    "model.compile(loss=\"categorical_crossentropy\", optimizer=sgd,metrics=[\"accuracy\"])\n",
    "H = model.fit(X_train, Y_train, validation_data=(X_test, Y_test),epochs=epochs, batch_size=128)"
   ]
  },
  {
   "cell_type": "code",
   "execution_count": 11,
   "metadata": {
    "colab": {
     "base_uri": "https://localhost:8080/",
     "height": 0
    },
    "id": "Mhq0Upb3-8O3",
    "outputId": "6a9c0aed-5423-4e18-8695-68fa2cf299a1"
   },
   "outputs": [
    {
     "name": "stdout",
     "output_type": "stream",
     "text": [
      "79/79 [==============================] - 6s 4ms/step\n",
      "              precision    recall  f1-score   support\n",
      "\n",
      "           0       0.79      0.96      0.87       980\n",
      "           1       0.75      0.99      0.85      1135\n",
      "           2       0.82      0.66      0.73      1032\n",
      "           3       0.68      0.85      0.75      1010\n",
      "           4       0.64      0.84      0.73       982\n",
      "           5       0.85      0.44      0.58       892\n",
      "           6       0.83      0.88      0.85       958\n",
      "           7       0.81      0.86      0.84      1028\n",
      "           8       0.83      0.59      0.69       974\n",
      "           9       0.72      0.49      0.58      1009\n",
      "\n",
      "    accuracy                           0.76     10000\n",
      "   macro avg       0.77      0.75      0.75     10000\n",
      "weighted avg       0.77      0.76      0.75     10000\n",
      "\n"
     ]
    }
   ],
   "source": [
    "#making the predictions\n",
    "predictions = model.predict(X_test, batch_size=128)\n",
    "print(classification_report(Y_test.argmax(axis=1),predictions.argmax(axis=1),target_names=[str(x) for x in lb.classes_]))"
   ]
  },
  {
   "cell_type": "code",
   "execution_count": 12,
   "metadata": {
    "colab": {
     "base_uri": "https://localhost:8080/",
     "height": 316
    },
    "id": "DN7oqCII_Crw",
    "outputId": "50873a02-9f2c-451c-c4bb-176065ea99cf"
   },
   "outputs": [
    {
     "data": {
      "text/plain": [
       "<matplotlib.legend.Legend at 0x1f0b9aa5e50>"
      ]
     },
     "execution_count": 12,
     "metadata": {},
     "output_type": "execute_result"
    },
    {
     "data": {
      "image/png": "[encoded data removed]",
      "text/plain": [
       "<Figure size 640x480 with 1 Axes>"
      ]
     },
     "metadata": {},
     "output_type": "display_data"
    }
   ],
   "source": [
    "#plotting the training loss and accuracy\n",
    "plt.style.use(\"ggplot\")\n",
    "plt.figure()\n",
    "plt.plot(np.arange(0, epochs), H.history[\"loss\"], label=\"train_loss\")\n",
    "plt.plot(np.arange(0, epochs), H.history[\"val_loss\"], label=\"val_loss\")\n",
    "plt.plot(np.arange(0, epochs), H.history[\"accuracy\"], label=\"train_acc\")\n",
    "plt.plot(np.arange(0, epochs), H.history[\"val_accuracy\"], label=\"val_acc\")\n",
    "plt.title(\"Training Loss and Accuracy\")\n",
    "plt.xlabel(\"Epoch #\")\n",
    "plt.ylabel(\"Loss/Accuracy\")\n",
    "plt.legend()"
   ]
  },
  {
   "cell_type": "code",
   "execution_count": null,
   "metadata": {
    "id": "dsgxIAZF9na1"
   },
   "outputs": [],
   "source": []
  }
 ],
 "metadata": {
  "colab": {
   "collapsed_sections": [],
   "provenance": []
  },
  "kernelspec": {
   "display_name": "Python 3 (ipykernel)",
   "language": "python",
   "name": "python3"
  },
  "language_info": {
   "codemirror_mode": {
    "name": "ipython",
    "version": 3
   },
   "file_extension": ".py",
   "mimetype": "text/x-python",
   "name": "python",
   "nbconvert_exporter": "python",
   "pygments_lexer": "ipython3",
   "version": "3.9.13"
  }
 },
 "nbformat": 4,
 "nbformat_minor": 1
}
