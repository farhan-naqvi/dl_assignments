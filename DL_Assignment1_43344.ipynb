{
 "cells": [
  {
   "cell_type": "markdown",
   "metadata": {
    "id": "y0kQAsW-3Ppa"
   },
   "source": [
    "Name: **Syed Farhan Naqvi**<br>\n",
    "Div: **BE11-Q11**<br>\n",
    "Roll no: **43344**<br>\n",
    "Title: **Assignment 1: Study of Deep learning Packages: Tensorflow, Keras, Theano and PyTorch.\n",
    "Document the distinct features and functionality of the packages.**<br>"
   ]
  },
  {
   "cell_type": "code",
   "execution_count": 2,
   "metadata": {
    "id": "oecPSoNR3-yP"
   },
   "outputs": [],
   "source": [
    "import numpy as np"
   ]
  },
  {
   "cell_type": "markdown",
   "metadata": {
    "id": "SZ4PqakF32cQ"
   },
   "source": [
    "**1. Tensorflow**"
   ]
  },
  {
   "cell_type": "code",
   "execution_count": 3,
   "metadata": {
    "id": "6m8-7WTb3Mit"
   },
   "outputs": [],
   "source": [
    "import tensorflow as tf"
   ]
  },
  {
   "cell_type": "code",
   "execution_count": 4,
   "metadata": {
    "colab": {
     "base_uri": "https://localhost:8080/"
    },
    "id": "rDAP1sI64A_T",
    "outputId": "c1619cd1-d278-4a95-8a56-94b6649f6f28"
   },
   "outputs": [
    {
     "name": "stdout",
     "output_type": "stream",
     "text": [
      "2.10.0\n"
     ]
    }
   ],
   "source": [
    "print(tf.__version__)"
   ]
  },
  {
   "cell_type": "markdown",
   "metadata": {
    "id": "6IrNy3Ek4Dtv"
   },
   "source": [
    "**2. Keras**"
   ]
  },
  {
   "cell_type": "code",
   "execution_count": 5,
   "metadata": {
    "colab": {
     "base_uri": "https://localhost:8080/"
    },
    "id": "oda3NOiV4GcJ",
    "outputId": "0c8100f6-cbd4-4724-c446-a5c1fd72321d"
   },
   "outputs": [],
   "source": [
    "from keras import datasets\n",
    "# Load MNIST datasets from keras\n",
    "(train_images, train_labels), (test_images, test_labels) = datasets.mnist.load_data()"
   ]
  },
  {
   "cell_type": "code",
   "execution_count": 6,
   "metadata": {
    "colab": {
     "base_uri": "https://localhost:8080/"
    },
    "id": "FcugfdER4LP6",
    "outputId": "4ceaf425-8909-495e-8b57-736b22e9c2ff"
   },
   "outputs": [
    {
     "data": {
      "text/plain": [
       "(60000, 28, 28)"
      ]
     },
     "execution_count": 6,
     "metadata": {},
     "output_type": "execute_result"
    }
   ],
   "source": [
    "train_images.shape"
   ]
  },
  {
   "cell_type": "code",
   "execution_count": 7,
   "metadata": {
    "colab": {
     "base_uri": "https://localhost:8080/"
    },
    "id": "8cfuAeKo4OeX",
    "outputId": "345e2cec-183f-41b0-9395-23efe85515c7"
   },
   "outputs": [
    {
     "data": {
      "text/plain": [
       "(10000, 28, 28)"
      ]
     },
     "execution_count": 7,
     "metadata": {},
     "output_type": "execute_result"
    }
   ],
   "source": [
    "test_images.shape"
   ]
  },
  {
   "cell_type": "markdown",
   "metadata": {
    "id": "a8hDZ2mn4PRn"
   },
   "source": [
    "**3. Theano**"
   ]
  },
  {
   "cell_type": "code",
   "execution_count": 7,
   "metadata": {
    "colab": {
     "base_uri": "https://localhost:8080/"
    },
    "id": "_3g_Lsce4Q9O",
    "outputId": "28220313-dcf0-4304-a2fc-212b61e41a34"
   },
   "outputs": [
    {
     "name": "stdout",
     "output_type": "stream",
     "text": [
      "Collecting Theano\n",
      "  Using cached Theano-1.0.5.tar.gz (2.8 MB)\n",
      "  Preparing metadata (setup.py): started\n",
      "  Preparing metadata (setup.py): finished with status 'done'\n",
      "Requirement already satisfied: numpy>=1.9.1 in d:\\anaconda\\lib\\site-packages (from Theano) (1.21.5)\n",
      "Requirement already satisfied: scipy>=0.14 in d:\\anaconda\\lib\\site-packages (from Theano) (1.9.1)\n",
      "Requirement already satisfied: six>=1.9.0 in d:\\anaconda\\lib\\site-packages (from Theano) (1.16.0)\n",
      "Building wheels for collected packages: Theano\n",
      "  Building wheel for Theano (setup.py): started\n",
      "  Building wheel for Theano (setup.py): still running...\n",
      "  Building wheel for Theano (setup.py): finished with status 'done'\n",
      "  Created wheel for Theano: filename=Theano-1.0.5-py3-none-any.whl size=2668122 sha256=408bef775996227a8f7cfcc1757e0d82f92f617b8cec6616968e200a7eaefdad\n",
      "  Stored in directory: c:\\users\\farhan\\appdata\\local\\pip\\cache\\wheels\\12\\d8\\36\\e9b7c617ca8be398dcc48621c539d0cb1d41ff04e4367fc235\n",
      "Successfully built Theano\n",
      "Installing collected packages: Theano\n",
      "Successfully installed Theano-1.0.5\n"
     ]
    }
   ],
   "source": [
    "# !pip install Theano"
   ]
  },
  {
   "cell_type": "code",
   "execution_count": 8,
   "metadata": {
    "id": "HYJwni9i4TlV"
   },
   "outputs": [
    {
     "name": "stderr",
     "output_type": "stream",
     "text": [
      "WARNING (theano.tensor.blas): Using NumPy C-API based implementation for BLAS functions.\n"
     ]
    }
   ],
   "source": [
    "import theano.tensor as T\n",
    "from theano import function"
   ]
  },
  {
   "cell_type": "code",
   "execution_count": 9,
   "metadata": {
    "id": "tPZzuHjF4X9L"
   },
   "outputs": [],
   "source": [
    "# Declaring 2 variables\n",
    "x = T.dscalar('x')\n",
    "y = T.dscalar('y')"
   ]
  },
  {
   "cell_type": "code",
   "execution_count": 10,
   "metadata": {
    "id": "On5RWBZ34ZlX"
   },
   "outputs": [],
   "source": [
    "# Summing up the 2 numbers\n",
    "z = x + y"
   ]
  },
  {
   "cell_type": "code",
   "execution_count": 11,
   "metadata": {
    "id": "NFE1tSdW4Z1b"
   },
   "outputs": [],
   "source": [
    "# Converting it to a callable object so that it takes matrix as parameters\n",
    "f = function([x, y], z)"
   ]
  },
  {
   "cell_type": "code",
   "execution_count": 12,
   "metadata": {
    "colab": {
     "base_uri": "https://localhost:8080/"
    },
    "id": "y4riSHJq4a9V",
    "outputId": "64649726-47f4-4d80-db4a-665a0c8808a8"
   },
   "outputs": [
    {
     "data": {
      "text/plain": [
       "array(189.)"
      ]
     },
     "execution_count": 12,
     "metadata": {},
     "output_type": "execute_result"
    }
   ],
   "source": [
    "f(100,89)"
   ]
  },
  {
   "cell_type": "markdown",
   "metadata": {
    "id": "H9_kUJNe4dlS"
   },
   "source": [
    "**4. PyTorch**"
   ]
  },
  {
   "cell_type": "code",
   "execution_count": 13,
   "metadata": {
    "colab": {
     "base_uri": "https://localhost:8080/"
    },
    "id": "IsiiMMbN4g7I",
    "outputId": "eed05c49-95fd-497a-f2d1-97b26744ce68"
   },
   "outputs": [
    {
     "name": "stdout",
     "output_type": "stream",
     "text": [
      "Looking in indexes: https://pypi.org/simple, https://us-python.pkg.dev/colab-wheels/public/simple/, https://download.pytorch.org/whl/cu115\n",
      "Requirement already satisfied: torch in /usr/local/lib/python3.7/dist-packages (1.12.1+cu113)\n",
      "Requirement already satisfied: torchvision in /usr/local/lib/python3.7/dist-packages (0.13.1+cu113)\n",
      "Requirement already satisfied: torchaudio in /usr/local/lib/python3.7/dist-packages (0.12.1+cu113)\n",
      "Requirement already satisfied: typing-extensions in /usr/local/lib/python3.7/dist-packages (from torch) (4.1.1)\n",
      "Requirement already satisfied: requests in /usr/local/lib/python3.7/dist-packages (from torchvision) (2.23.0)\n",
      "Requirement already satisfied: pillow!=8.3.*,>=5.3.0 in /usr/local/lib/python3.7/dist-packages (from torchvision) (7.1.2)\n",
      "Requirement already satisfied: numpy in /usr/local/lib/python3.7/dist-packages (from torchvision) (1.21.6)\n",
      "Requirement already satisfied: certifi>=2017.4.17 in /usr/local/lib/python3.7/dist-packages (from requests->torchvision) (2022.9.24)\n",
      "Requirement already satisfied: urllib3!=1.25.0,!=1.25.1,<1.26,>=1.21.1 in /usr/local/lib/python3.7/dist-packages (from requests->torchvision) (1.24.3)\n",
      "Requirement already satisfied: idna<3,>=2.5 in /usr/local/lib/python3.7/dist-packages (from requests->torchvision) (2.10)\n",
      "Requirement already satisfied: chardet<4,>=3.0.2 in /usr/local/lib/python3.7/dist-packages (from requests->torchvision) (3.0.4)\n"
     ]
    }
   ],
   "source": [
    "# !pip3 install torch torchvision torchaudio --extra-index-url https://download.pytorch.org/whl/cu115"
   ]
  },
  {
   "cell_type": "code",
   "execution_count": 13,
   "metadata": {
    "id": "cju81-Qq4mXs"
   },
   "outputs": [],
   "source": [
    "import torch\n",
    "import torch.nn as nn"
   ]
  },
  {
   "cell_type": "code",
   "execution_count": 14,
   "metadata": {
    "colab": {
     "base_uri": "https://localhost:8080/"
    },
    "id": "v8Pa1fuw4o5z",
    "outputId": "1e3f0f32-5739-4acf-f9af-78fe67e8b9fb"
   },
   "outputs": [
    {
     "name": "stdout",
     "output_type": "stream",
     "text": [
      "1.13.0+cu117\n"
     ]
    }
   ],
   "source": [
    "print(torch.__version__)"
   ]
  },
  {
   "cell_type": "code",
   "execution_count": 15,
   "metadata": {
    "colab": {
     "base_uri": "https://localhost:8080/"
    },
    "id": "qCfnunlg4pKW",
    "outputId": "26ef513e-8b59-4b1b-ae96-74ece298b947"
   },
   "outputs": [
    {
     "data": {
      "text/plain": [
       "True"
      ]
     },
     "execution_count": 15,
     "metadata": {},
     "output_type": "execute_result"
    }
   ],
   "source": [
    "torch.cuda.is_available()"
   ]
  },
  {
   "cell_type": "code",
   "execution_count": 16,
   "metadata": {
    "id": "p3UpS6P-66BN"
   },
   "outputs": [],
   "source": []
  }
 ],
 "metadata": {
  "colab": {
   "collapsed_sections": [],
   "provenance": []
  },
  "kernelspec": {
   "display_name": "Python 3 (ipykernel)",
   "language": "python",
   "name": "python3"
  },
  "language_info": {
   "codemirror_mode": {
    "name": "ipython",
    "version": 3
   },
   "file_extension": ".py",
   "mimetype": "text/x-python",
   "name": "python",
   "nbconvert_exporter": "python",
   "pygments_lexer": "ipython3",
   "version": "3.9.13"
  }
 },
 "nbformat": 4,
 "nbformat_minor": 1
}
